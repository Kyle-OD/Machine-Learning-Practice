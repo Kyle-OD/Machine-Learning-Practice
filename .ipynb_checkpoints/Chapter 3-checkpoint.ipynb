{
 "cells": [
  {
   "cell_type": "markdown",
   "metadata": {},
   "source": [
    "## Chapter 3 Exercises"
   ]
  },
  {
   "cell_type": "code",
   "execution_count": 1,
   "metadata": {},
   "outputs": [],
   "source": [
    "import numpy as np"
   ]
  },
  {
   "cell_type": "markdown",
   "metadata": {},
   "source": [
    "#### Basics of a Neural Network"
   ]
  },
  {
   "cell_type": "code",
   "execution_count": 2,
   "metadata": {},
   "outputs": [],
   "source": [
    "weight = 0.1\n",
    "\n",
    "def neural_network(input, weight):\n",
    "    \n",
    "    prediction = input * weight\n",
    "    \n",
    "    return prediction"
   ]
  },
  {
   "cell_type": "code",
   "execution_count": 3,
   "metadata": {},
   "outputs": [
    {
     "name": "stdout",
     "output_type": "stream",
     "text": [
      "0.85\n"
     ]
    }
   ],
   "source": [
    "number_of_toes = [8.5, 9.5, 10, 9]\n",
    "\n",
    "input = number_of_toes[0]\n",
    "\n",
    "pred = neural_network(input, weight)\n",
    "print(round(pred,2))"
   ]
  },
  {
   "cell_type": "markdown",
   "metadata": {},
   "source": [
    "#### Challenge Functions"
   ]
  },
  {
   "cell_type": "code",
   "execution_count": 4,
   "metadata": {},
   "outputs": [],
   "source": [
    "def elementwise_multiplication(vec_a, vec_b):\n",
    "    assert(len(vec_a)==len(vec_b))\n",
    "    output = []\n",
    "    for i in range(len(vec_a)):\n",
    "        output += [(vec_a[i] * vec_b[i])]   \n",
    "    return output\n",
    "\n",
    "def elementwise_addition(vec_a, vec_b):\n",
    "    assert(len(vec_a)==len(vec_b))\n",
    "    output = []\n",
    "    for i in range(len(vec_a)):\n",
    "        output += [(vec_a[i] + vec_b[i])] \n",
    "    return output\n",
    "\n",
    "def vector_sum(vec_a):\n",
    "    output = 0\n",
    "    for i in vec_a:\n",
    "        output += i   \n",
    "    return output\n",
    "\n",
    "def vector_average(vec_a):\n",
    "    output = vector_sum(vec_a)/len(vec_a) \n",
    "    return output\n",
    "\n",
    "def dot_product(vec_a, vec_b):\n",
    "    return vector_sum(elementwise_multiplication(vec_a,vec_b))"
   ]
  },
  {
   "cell_type": "code",
   "execution_count": 5,
   "metadata": {},
   "outputs": [
    {
     "name": "stdout",
     "output_type": "stream",
     "text": [
      "Element Multiplication Test: [0, 6, 14, 24, 36]\n",
      "Element Addition Test: [5, 7, 9, 11, 13]\n",
      "Vector Sum Test: 10\n",
      "Vector Average Test: 2.0\n",
      "Dot Product Test: 80\n"
     ]
    }
   ],
   "source": [
    "vec_a = [0, 1, 2, 3, 4]\n",
    "vec_b = [5, 6, 7, 8, 9]\n",
    "\n",
    "ele_mul_test = elementwise_multiplication(vec_a, vec_b)\n",
    "print('Element Multiplication Test: '+ str(ele_mul_test))\n",
    "\n",
    "ele_add_test = elementwise_addition(vec_a, vec_b)\n",
    "print('Element Addition Test: '+ str(ele_add_test))\n",
    "\n",
    "vec_sum_test = vector_sum(vec_a)\n",
    "print('Vector Sum Test:', vec_sum_test)\n",
    "\n",
    "vec_avg_test = vector_average(vec_a)\n",
    "print('Vector Average Test:', vec_avg_test)\n",
    "\n",
    "dot_product_test = dot_product(vec_a,vec_b)\n",
    "print('Dot Product Test:', dot_product_test)"
   ]
  },
  {
   "cell_type": "markdown",
   "metadata": {},
   "source": [
    "#### Neural Network with Multiple Input Variables"
   ]
  },
  {
   "cell_type": "code",
   "execution_count": 6,
   "metadata": {},
   "outputs": [
    {
     "name": "stdout",
     "output_type": "stream",
     "text": [
      "0.98\n"
     ]
    }
   ],
   "source": [
    "def w_sum(a,b):\n",
    "    assert(len(a) == len(b))\n",
    "    output = 0\n",
    "    for i in range(len(a)):\n",
    "        output += (a[i] * b[i])\n",
    "    return output\n",
    "\n",
    "def neural_network(input, weights):\n",
    "    pred = w_sum(input, weights)\n",
    "    return pred\n",
    "\n",
    "weights = [0.1,0.2,0]\n",
    "\n",
    "toes = [8.5, 9.5, 9.9, 9.0]\n",
    "winloss = [0.65, 0.8, 0.8, 0.9]\n",
    "nfans = [1.2, 1.3, 0.5, 1.0]\n",
    "\n",
    "input = [toes[0], winloss[0], nfans[0]]\n",
    "pred = neural_network(input, weights)\n",
    "print(round(pred, 2))"
   ]
  },
  {
   "cell_type": "markdown",
   "metadata": {},
   "source": [
    "#### NumPy Usage for Vector and Matrix Math"
   ]
  },
  {
   "cell_type": "code",
   "execution_count": 7,
   "metadata": {},
   "outputs": [
    {
     "name": "stdout",
     "output_type": "stream",
     "text": [
      "0.98\n"
     ]
    }
   ],
   "source": [
    "weights = np.array([0.1, 0.2, 0])\n",
    "\n",
    "def neural_network(input, weights):\n",
    "    pred = input.dot(weights)\n",
    "    return pred\n",
    "\n",
    "toes = np.array([8.5, 9.5, 9.9, 9.0])\n",
    "wlrec = np.array([0.65, 0.8, 0.8, 0.9])\n",
    "nfans = np.array([1.2, 1.3, 0.5, 1.0])\n",
    "\n",
    "input = np.array([toes[0],wlrec[0],nfans[0]])\n",
    "pred = neural_network(input,weights)\n",
    "print(round(pred,2))"
   ]
  },
  {
   "cell_type": "code",
   "execution_count": 8,
   "metadata": {},
   "outputs": [
    {
     "name": "stdout",
     "output_type": "stream",
     "text": [
      "[0.2135 0.145  0.5065]\n"
     ]
    }
   ],
   "source": [
    "# toes % win # fans\n",
    "ih_wgt = np.array([\n",
    "            [0.1, 0.2, -0.1], # hid[0]\n",
    "            [-0.1,0.1, 0.9], # hid[1]\n",
    "            [0.1, 0.4, 0.1]]).T # hid[2]\n",
    "\n",
    "\n",
    "# hid[0] hid[1] hid[2]\n",
    "hp_wgt = np.array([\n",
    "            [0.3, 1.1, -0.3], # hurt?\n",
    "            [0.1, 0.2, 0.0], # win?\n",
    "            [0.0, 1.3, 0.1] ]).T # sad?\n",
    "\n",
    "weights = [ih_wgt, hp_wgt]\n",
    "\n",
    "def neural_network(input, weights):\n",
    "\n",
    "    hid = input.dot(weights[0])\n",
    "    pred = hid.dot(weights[1])\n",
    "    return pred\n",
    "\n",
    "\n",
    "toes = np.array([8.5, 9.5, 9.9, 9.0])\n",
    "wlrec = np.array([0.65,0.8, 0.8, 0.9])\n",
    "nfans = np.array([1.2, 1.3, 0.5, 1.0])\n",
    "\n",
    "input = np.array([toes[0],wlrec[0],nfans[0]])\n",
    "\n",
    "pred = neural_network(input,weights)\n",
    "print(pred)"
   ]
  },
  {
   "cell_type": "code",
   "execution_count": 9,
   "metadata": {
    "scrolled": true
   },
   "outputs": [
    {
     "name": "stdout",
     "output_type": "stream",
     "text": [
      "[0 1 2 3]\n",
      "[4 5 6 7]\n",
      "[[0 1 2 3]\n",
      " [4 5 6 7]]\n",
      "[[0. 0. 0. 0.]\n",
      " [0. 0. 0. 0.]]\n",
      "[[0.88421125 0.70511931 0.36200892 0.20342788 0.8765684 ]\n",
      " [0.70769692 0.85640409 0.01336663 0.48993349 0.44131031]]\n"
     ]
    }
   ],
   "source": [
    "a = np.array([0,1,2,3])\n",
    "b = np.array([4,5,6,7])\n",
    "c = np.array([[0,1,2,3],\n",
    "              [4,5,6,7]])\n",
    "\n",
    "d = np.zeros((2,4))\n",
    "e = np.random.rand(2,5)\n",
    "\n",
    "print(a)\n",
    "print(b)\n",
    "print(c)\n",
    "print(d)\n",
    "print(e)"
   ]
  },
  {
   "cell_type": "code",
   "execution_count": 10,
   "metadata": {},
   "outputs": [
    {
     "name": "stdout",
     "output_type": "stream",
     "text": [
      "[0.  0.1 0.2 0.3]\n",
      "[[0.  0.2 0.4 0.6]\n",
      " [0.8 1.  1.2 1.4]]\n",
      "[ 0  5 12 21]\n",
      "[0.  1.  2.4 4.2]\n",
      "[[ 0  1  4  9]\n",
      " [ 0  5 12 21]]\n"
     ]
    }
   ],
   "source": [
    "print(a * 0.1)\n",
    "print(c * 0.2)\n",
    "print(a * b)\n",
    "print(a * b * 0.2)\n",
    "print(a * c)"
   ]
  }
 ],
 "metadata": {
  "kernelspec": {
   "display_name": "Python 3",
   "language": "python",
   "name": "python3"
  },
  "language_info": {
   "codemirror_mode": {
    "name": "ipython",
    "version": 3
   },
   "file_extension": ".py",
   "mimetype": "text/x-python",
   "name": "python",
   "nbconvert_exporter": "python",
   "pygments_lexer": "ipython3",
   "version": "3.7.3"
  }
 },
 "nbformat": 4,
 "nbformat_minor": 2
}
